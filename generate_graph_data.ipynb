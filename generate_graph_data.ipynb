{
 "cells": [
  {
   "cell_type": "code",
   "execution_count": null,
   "id": "21e7aa14",
   "metadata": {},
   "outputs": [],
   "source": [
    "import subprocess\n",
    "import pickle\n",
    "from os.path import isfile\n",
    "\n",
    "# Argument to pass\n",
    "my_argument = \"Hello, world!\"\n",
    "\n",
    "# Execute Python file with argument\n",
    "file1 = \"step_1_process_input_data.py\"\n",
    "file2 = \"step_2_process_input_data.py\"\n",
    "file3 = \"step_3_combine_two_csvs.py\"\n",
    "file4 = \"step_4_model_with_cnn.py.py\"\n",
    "\n",
    "start = 0.0\n",
    "end = 1.5\n",
    "step = 1.0\n",
    "\n",
    "for i in range(int((end - start) / step) + 1):\n",
    "    value = str(start + i * step)\n",
    "    subprocess.run([\"python\", file1, value])\n",
    "    subprocess.run([\"python\", file2, value])\n",
    "    subprocess.run([\"python\", file3])\n",
    "    subprocess.run([\"python\", file4, value])\n",
    "\n",
    "\n",
    "training_accuracy_with_frame_size_dict = pickle.load(open('training_accuracy_with_frame_size_dict.pkl', 'rb')) if isfile('training_accuracy_with_frame_size_dict.pkl') else None\n",
    "print(training_accuracy_with_frame_size_dict)\n",
    "\n"
   ]
  },
  {
   "cell_type": "code",
   "execution_count": null,
   "id": "ed911471",
   "metadata": {},
   "outputs": [],
   "source": []
  }
 ],
 "metadata": {
  "kernelspec": {
   "display_name": "Python 3 (ipykernel)",
   "language": "python",
   "name": "python3"
  },
  "language_info": {
   "codemirror_mode": {
    "name": "ipython",
    "version": 3
   },
   "file_extension": ".py",
   "mimetype": "text/x-python",
   "name": "python",
   "nbconvert_exporter": "python",
   "pygments_lexer": "ipython3",
   "version": "3.10.6"
  }
 },
 "nbformat": 4,
 "nbformat_minor": 5
}
